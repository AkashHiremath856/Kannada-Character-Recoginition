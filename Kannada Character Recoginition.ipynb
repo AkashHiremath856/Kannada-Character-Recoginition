{
 "cells": [
  {
   "cell_type": "code",
   "execution_count": 48,
   "id": "679bd95a",
   "metadata": {},
   "outputs": [
    {
     "name": "stdout",
     "output_type": "stream",
     "text": [
      "The autotime extension is already loaded. To reload it, use:\n",
      "  %reload_ext autotime\n",
      "time: 0 ns (started: 2023-03-04 15:31:56 +05:30)\n"
     ]
    }
   ],
   "source": [
    "import os\n",
    "import pandas as pd\n",
    "import numpy as np\n",
    "from skimage.io import imread\n",
    "from skimage.transform import resize\n",
    "import cv2 as cv\n",
    "from sklearn.svm import SVC\n",
    "from sklearn.ensemble import RandomForestClassifier\n",
    "from sklearn.linear_model import LogisticRegression\n",
    "from sklearn.model_selection import train_test_split,GridSearchCV,cross_val_score\n",
    "import warnings\n",
    "import shutil\n",
    "from tqdm import tqdm\n",
    "warnings.filterwarnings('ignore')\n",
    "%load_ext autotime"
   ]
  },
  {
   "cell_type": "markdown",
   "id": "f7fcf8d1",
   "metadata": {},
   "source": [
    "# IMG  DIR"
   ]
  },
  {
   "cell_type": "code",
   "execution_count": 19,
   "id": "90f7ee04",
   "metadata": {},
   "outputs": [
    {
     "data": {
      "text/plain": [
       "16425"
      ]
     },
     "execution_count": 19,
     "metadata": {},
     "output_type": "execute_result"
    },
    {
     "name": "stdout",
     "output_type": "stream",
     "text": [
      "time: 47 ms (started: 2023-03-04 15:12:47 +05:30)\n"
     ]
    }
   ],
   "source": [
    "len(os.listdir('Img/'))"
   ]
  },
  {
   "cell_type": "code",
   "execution_count": 20,
   "id": "a6efa41e",
   "metadata": {},
   "outputs": [
    {
     "data": {
      "text/plain": [
       "['img001-001.png',\n",
       " 'img001-002.png',\n",
       " 'img001-003.png',\n",
       " 'img001-004.png',\n",
       " 'img001-005.png',\n",
       " 'img001-006.png',\n",
       " 'img001-007.png',\n",
       " 'img001-008.png',\n",
       " 'img001-009.png',\n",
       " 'img001-010.png']"
      ]
     },
     "execution_count": 20,
     "metadata": {},
     "output_type": "execute_result"
    },
    {
     "name": "stdout",
     "output_type": "stream",
     "text": [
      "time: 94 ms (started: 2023-03-04 15:12:47 +05:30)\n"
     ]
    }
   ],
   "source": [
    "files=os.listdir('raw_Img/')\n",
    "files[:10]"
   ]
  },
  {
   "cell_type": "code",
   "execution_count": 21,
   "id": "66dd7976",
   "metadata": {},
   "outputs": [
    {
     "data": {
      "text/html": [
       "<div>\n",
       "<style scoped>\n",
       "    .dataframe tbody tr th:only-of-type {\n",
       "        vertical-align: middle;\n",
       "    }\n",
       "\n",
       "    .dataframe tbody tr th {\n",
       "        vertical-align: top;\n",
       "    }\n",
       "\n",
       "    .dataframe thead th {\n",
       "        text-align: right;\n",
       "    }\n",
       "</style>\n",
       "<table border=\"1\" class=\"dataframe\">\n",
       "  <thead>\n",
       "    <tr style=\"text-align: right;\">\n",
       "      <th></th>\n",
       "      <th>img</th>\n",
       "      <th>class</th>\n",
       "    </tr>\n",
       "  </thead>\n",
       "  <tbody>\n",
       "    <tr>\n",
       "      <th>0</th>\n",
       "      <td>Img/img001-001.png</td>\n",
       "      <td>1</td>\n",
       "    </tr>\n",
       "    <tr>\n",
       "      <th>1</th>\n",
       "      <td>Img/img001-002.png</td>\n",
       "      <td>1</td>\n",
       "    </tr>\n",
       "    <tr>\n",
       "      <th>2</th>\n",
       "      <td>Img/img001-003.png</td>\n",
       "      <td>1</td>\n",
       "    </tr>\n",
       "    <tr>\n",
       "      <th>3</th>\n",
       "      <td>Img/img001-004.png</td>\n",
       "      <td>1</td>\n",
       "    </tr>\n",
       "    <tr>\n",
       "      <th>4</th>\n",
       "      <td>Img/img001-005.png</td>\n",
       "      <td>1</td>\n",
       "    </tr>\n",
       "  </tbody>\n",
       "</table>\n",
       "</div>"
      ],
      "text/plain": [
       "                  img  class\n",
       "0  Img/img001-001.png      1\n",
       "1  Img/img001-002.png      1\n",
       "2  Img/img001-003.png      1\n",
       "3  Img/img001-004.png      1\n",
       "4  Img/img001-005.png      1"
      ]
     },
     "execution_count": 21,
     "metadata": {},
     "output_type": "execute_result"
    },
    {
     "name": "stdout",
     "output_type": "stream",
     "text": [
      "time: 31 ms (started: 2023-03-04 15:12:47 +05:30)\n"
     ]
    }
   ],
   "source": [
    "data_set=pd.read_csv('kannada.csv')\n",
    "data_set.head()"
   ]
  },
  {
   "cell_type": "markdown",
   "id": "ee222647",
   "metadata": {},
   "source": [
    "# Resize Test"
   ]
  },
  {
   "cell_type": "code",
   "execution_count": 22,
   "id": "154c07a7",
   "metadata": {},
   "outputs": [
    {
     "name": "stdout",
     "output_type": "stream",
     "text": [
      "img001-005.png\n"
     ]
    },
    {
     "data": {
      "text/plain": [
       "-1"
      ]
     },
     "execution_count": 22,
     "metadata": {},
     "output_type": "execute_result"
    },
    {
     "name": "stdout",
     "output_type": "stream",
     "text": [
      "time: 9.86 s (started: 2023-03-04 15:12:47 +05:30)\n"
     ]
    }
   ],
   "source": [
    "img=cv.imread(f'raw_img/{files[4]}')\n",
    "print(files[4])\n",
    "cv.imshow('sample',img)\n",
    "cv.waitKey(0)"
   ]
  },
  {
   "cell_type": "code",
   "execution_count": 23,
   "id": "bddaa9bc",
   "metadata": {},
   "outputs": [
    {
     "data": {
      "text/plain": [
       "-1"
      ]
     },
     "execution_count": 23,
     "metadata": {},
     "output_type": "execute_result"
    },
    {
     "name": "stdout",
     "output_type": "stream",
     "text": [
      "time: 1.36 s (started: 2023-03-04 15:12:57 +05:30)\n"
     ]
    }
   ],
   "source": [
    "tranform_img=resize(img,(150,150,3))\n",
    "cv.imshow('tranformed',tranform_img)\n",
    "cv.waitKey(0)"
   ]
  },
  {
   "cell_type": "markdown",
   "id": "1c55962d",
   "metadata": {},
   "source": [
    "# Image Tranformation"
   ]
  },
  {
   "cell_type": "code",
   "execution_count": 24,
   "id": "b236fa6e",
   "metadata": {},
   "outputs": [
    {
     "name": "stdout",
     "output_type": "stream",
     "text": [
      "time: 0 ns (started: 2023-03-04 15:12:59 +05:30)\n"
     ]
    }
   ],
   "source": [
    "try:\n",
    "    os.makedirs('img')\n",
    "    for i in tqdm(range(len(files))):\n",
    "        img=cv.imread(f'raw_img_test/{files[i]}')\n",
    "        tranform_img=resize(img,(150,150,3))\n",
    "        path=f'img/{files[i]}'\n",
    "        cv.imwrite(path, tranform_img*255)\n",
    "except:\n",
    "    pass"
   ]
  },
  {
   "cell_type": "markdown",
   "id": "106ff006",
   "metadata": {},
   "source": [
    "# Feature Extraction"
   ]
  },
  {
   "cell_type": "code",
   "execution_count": 49,
   "id": "81844a3f",
   "metadata": {},
   "outputs": [
    {
     "name": "stderr",
     "output_type": "stream",
     "text": [
      "100%|███████████████████████████████████████████████████████████████████████████████| 400/400 [00:00<00:00, 487.27it/s]"
     ]
    },
    {
     "name": "stdout",
     "output_type": "stream",
     "text": [
      "time: 906 ms (started: 2023-03-04 15:32:02 +05:30)\n"
     ]
    },
    {
     "name": "stderr",
     "output_type": "stream",
     "text": [
      "\n"
     ]
    }
   ],
   "source": [
    "feature=[]\n",
    "target=[]\n",
    "for i in tqdm(range(len(os.listdir('Img/')[:400]))):\n",
    "    img_path=(data_set['img'].iloc[i])\n",
    "\n",
    "    img=imread(img_path) #tranform image\n",
    "    flatten_img=img.flatten()\n",
    "\n",
    "    feature.append(flatten_img)\n",
    "    target.append(data_set['class'].iloc[i])\n",
    "\n",
    "\n",
    "feature=np.array(feature)\n",
    "target=np.array(target)"
   ]
  },
  {
   "cell_type": "markdown",
   "id": "32e056fb",
   "metadata": {},
   "source": [
    "# Splitting with 30% for testing"
   ]
  },
  {
   "cell_type": "code",
   "execution_count": 50,
   "id": "a54dadd5",
   "metadata": {},
   "outputs": [
    {
     "name": "stdout",
     "output_type": "stream",
     "text": [
      "time: 31 ms (started: 2023-03-04 15:32:05 +05:30)\n"
     ]
    }
   ],
   "source": [
    "X_train,X_test,y_train,y_test=train_test_split(feature,target,test_size=.2)"
   ]
  },
  {
   "cell_type": "code",
   "execution_count": 51,
   "id": "abab1be1",
   "metadata": {},
   "outputs": [
    {
     "data": {
      "text/plain": [
       "((320, 67500), (80, 67500))"
      ]
     },
     "execution_count": 51,
     "metadata": {},
     "output_type": "execute_result"
    },
    {
     "name": "stdout",
     "output_type": "stream",
     "text": [
      "time: 0 ns (started: 2023-03-04 15:32:07 +05:30)\n"
     ]
    }
   ],
   "source": [
    "X_train.shape,X_test.shape"
   ]
  },
  {
   "cell_type": "code",
   "execution_count": 52,
   "id": "42a5f859",
   "metadata": {},
   "outputs": [
    {
     "data": {
      "text/plain": [
       "(87.0, 35.0)"
      ]
     },
     "execution_count": 52,
     "metadata": {},
     "output_type": "execute_result"
    },
    {
     "name": "stdout",
     "output_type": "stream",
     "text": [
      "time: 3.02 s (started: 2023-03-04 15:32:10 +05:30)\n"
     ]
    }
   ],
   "source": [
    "model1=RandomForestClassifier()\n",
    "model1.fit(X_train,y_train)\n",
    "model1.score(feature,target)*100,model1.score(X_test,y_test)*100"
   ]
  },
  {
   "cell_type": "code",
   "execution_count": 53,
   "id": "d055dde5",
   "metadata": {},
   "outputs": [
    {
     "data": {
      "text/plain": [
       "(87.0, 35.0)"
      ]
     },
     "execution_count": 53,
     "metadata": {},
     "output_type": "execute_result"
    },
    {
     "name": "stdout",
     "output_type": "stream",
     "text": [
      "time: 25.9 s (started: 2023-03-04 15:32:13 +05:30)\n"
     ]
    }
   ],
   "source": [
    "model2=LogisticRegression()\n",
    "model2.fit(X_train,y_train)\n",
    "model2.score(feature,target)*100,model2.score(X_test,y_test)*100"
   ]
  },
  {
   "cell_type": "code",
   "execution_count": 58,
   "id": "3ebc20c9",
   "metadata": {},
   "outputs": [
    {
     "data": {
      "text/plain": [
       "(85.5, 37.5)"
      ]
     },
     "execution_count": 58,
     "metadata": {},
     "output_type": "execute_result"
    },
    {
     "name": "stdout",
     "output_type": "stream",
     "text": [
      "time: 1min 6s (started: 2023-03-04 15:50:34 +05:30)\n"
     ]
    }
   ],
   "source": [
    "model3=SVC()\n",
    "model3.fit(X_train,y_train)\n",
    "model3.score(feature,target)*100,model3.score(X_test,y_test)*100"
   ]
  },
  {
   "cell_type": "markdown",
   "id": "19a64989",
   "metadata": {},
   "source": [
    "# HyperParameter Tuning"
   ]
  },
  {
   "cell_type": "markdown",
   "id": "e8ec7abe",
   "metadata": {},
   "source": [
    "<!-- # # svc=SVC()\n",
    "\n",
    "# # params={\n",
    "# #     'C':[1,2,3,4,5],\n",
    "# #     'kernel':['poly','rbf','sigmoid'],\n",
    "# #     'gamma':['auto','scale']\n",
    "# # }\n",
    "# # GSsvm=GridSearchCV(svc,param_grid=params,n_jobs=1)\n",
    "# # GSsvm.fit(X_train,y_train)\n",
    "# # print(GSsvm.best_params_)\n",
    "# # print(GSsvm.best_score_) -->"
   ]
  },
  {
   "cell_type": "code",
   "execution_count": null,
   "id": "3814ef09",
   "metadata": {},
   "outputs": [],
   "source": [
    "lr=LogisticRegression()\n",
    "\n",
    "params={\n",
    "    'C':[1,2,3,4,5],\n",
    "    'penalty':['l1', 'l2', 'elasticnet', None],\n",
    "    \"solver\":[\"lbfgs\", \"liblinear\"],\n",
    "    'max_iter':[1000]\n",
    "}\n",
    "\n",
    "GSlr=GridSearchCV(lr,param_grid=params)\n",
    "GSlr.fit(X_train,y_train)\n",
    "print(GSlr.best_params_)\n",
    "print(GSlr.best_score_)"
   ]
  },
  {
   "cell_type": "code",
   "execution_count": null,
   "id": "fe240f64",
   "metadata": {
    "scrolled": false
   },
   "outputs": [],
   "source": [
    "svc=SVC()\n",
    "\n",
    "params={\n",
    "    'C':[1,2,3,4,5],\n",
    "    'kernel':['poly','rbf','sigmoid'],\n",
    "    'gamma':['auto','scale']\n",
    "}\n",
    "GSsvm=GridSearchCV(svc,param_grid=params,n_jobs=1)\n",
    "GSsvm.fit(X_train,y_train)\n",
    "print(GSsvm.best_params_)\n",
    "print(GSsvm.best_score_)"
   ]
  },
  {
   "cell_type": "code",
   "execution_count": null,
   "id": "4a9c134b",
   "metadata": {},
   "outputs": [],
   "source": [
    "rf=RandomForestClassifier()\n",
    "\n",
    "params={\n",
    "    'min_samples_split':[2,4,6],\n",
    "    \"min_samples_leaf\":[1,2,3,4],\n",
    "    'max_features':['auto','log2',None]\n",
    "}\n",
    "\n",
    "GSrf=GridSearchCV(rf,param_grid=params)\n",
    "GSrf.fit(X_train,y_train)\n",
    "print(GSrf.best_params_)\n",
    "print(GSrf.best_score_)"
   ]
  },
  {
   "cell_type": "code",
   "execution_count": null,
   "id": "11da17c9",
   "metadata": {},
   "outputs": [],
   "source": [
    "results={\n",
    "    'Algorithm':['LogisticRegression','SVC','RandomForestClassifier'],\n",
    "    'HyperParameters':[GSlr.best_params_,GSsvm.best_params_,GSrf.best_params_],\n",
    "    'Best_Score':[GSlr.best_score_,GSsvm.best_score_,GSrf.best_score_],\n",
    "    'Train_Accuracy':[GSlr.score(X_train,y_train),GSsvm.score(X_train,y_train),GSrf.score(X_train,y_train)],\n",
    "    'Test_Accuracy':[GSlr.score(X_test,y_test),GSsvm.score(X_test,y_test),GSrf.score(X_test,y_test)]\n",
    "    \n",
    "}\n",
    "\n",
    "resultsdf=pd.DataFrame(results)\n",
    "resultsdf.sort_values(by=['Best_Score'],ascending=False,inplace=True)\n",
    "resultsdf"
   ]
  },
  {
   "cell_type": "markdown",
   "id": "2d37d2d9",
   "metadata": {},
   "source": [
    "# CrossValScore"
   ]
  },
  {
   "cell_type": "code",
   "execution_count": 32,
   "id": "343c4e50",
   "metadata": {},
   "outputs": [
    {
     "data": {
      "text/plain": [
       "(0.26523297491039427, 0.31541218637992835)"
      ]
     },
     "execution_count": 32,
     "metadata": {},
     "output_type": "execute_result"
    },
    {
     "name": "stdout",
     "output_type": "stream",
     "text": [
      "time: 1min 15s (started: 2023-03-04 15:19:20 +05:30)\n"
     ]
    }
   ],
   "source": [
    "np.average(cross_val_score(model1,X_train,y_train,cv=3)),np.average(cross_val_score(model2,X_train,y_train,cv=3))"
   ]
  },
  {
   "cell_type": "markdown",
   "id": "efdda2f1",
   "metadata": {},
   "source": [
    "# Predicting"
   ]
  },
  {
   "cell_type": "code",
   "execution_count": 31,
   "id": "eada52d6",
   "metadata": {},
   "outputs": [
    {
     "name": "stdout",
     "output_type": "stream",
     "text": [
      "time: 0 ns (started: 2023-03-04 15:19:08 +05:30)\n"
     ]
    }
   ],
   "source": [
    "def tranform_image(img_path):\n",
    "    feature=[]\n",
    "    img=imread(f'img/{img_path}.png')\n",
    "    tranform_img=resize(img,(150,150,3))\n",
    "    flatten_img=tranform_img.flatten()\n",
    "    feature.append(flatten_img)\n",
    "    return np.array(feature)"
   ]
  },
  {
   "cell_type": "code",
   "execution_count": 64,
   "id": "020cc28e",
   "metadata": {},
   "outputs": [
    {
     "name": "stdout",
     "output_type": "stream",
     "text": [
      "img010-019\n",
      "[8]\n",
      "[10]\n",
      "[8]\n",
      "time: 2.25 s (started: 2023-03-04 15:55:05 +05:30)\n"
     ]
    }
   ],
   "source": [
    "img_name=f'../test_img/{input()}'\n",
    "print(model1.predict(tranform_image(img_name)))\n",
    "print(model2.predict(tranform_image(img_name)))\n",
    "print(model3.predict(tranform_image(img_name)))"
   ]
  },
  {
   "cell_type": "markdown",
   "id": "4a6892fe",
   "metadata": {},
   "source": [
    "# Dumping Model for future use"
   ]
  },
  {
   "cell_type": "code",
   "execution_count": 65,
   "id": "404ebe97",
   "metadata": {},
   "outputs": [
    {
     "name": "stdout",
     "output_type": "stream",
     "text": [
      "time: 15 ms (started: 2023-03-04 15:55:24 +05:30)\n"
     ]
    }
   ],
   "source": [
    "import pickle\n",
    "\n",
    "pickle.dump(model2,open('KCR.pkl','wb'))"
   ]
  }
 ],
 "metadata": {
  "kernelspec": {
   "display_name": "Python 3 (ipykernel)",
   "language": "python",
   "name": "python3"
  },
  "language_info": {
   "codemirror_mode": {
    "name": "ipython",
    "version": 3
   },
   "file_extension": ".py",
   "mimetype": "text/x-python",
   "name": "python",
   "nbconvert_exporter": "python",
   "pygments_lexer": "ipython3",
   "version": "3.10.10"
  }
 },
 "nbformat": 4,
 "nbformat_minor": 5
}
