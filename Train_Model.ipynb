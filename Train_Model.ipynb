{
 "cells": [
  {
   "cell_type": "code",
   "execution_count": 1,
   "id": "462a0a56-0744-4f1b-8fd8-e267fc402207",
   "metadata": {},
   "outputs": [
    {
     "name": "stdout",
     "output_type": "stream",
     "text": [
      "Requirement already satisfied: streamlit-drawable-canvas in c:\\users\\ak_0366\\appdata\\local\\programs\\python\\python311\\lib\\site-packages (from -r requirements.txt (line 1)) (0.9.3)\n",
      "Requirement already satisfied: streamlit in c:\\users\\ak_0366\\appdata\\local\\programs\\python\\python311\\lib\\site-packages (from -r requirements.txt (line 2)) (1.33.0)\n",
      "Requirement already satisfied: numpy in c:\\users\\ak_0366\\appdata\\local\\programs\\python\\python311\\lib\\site-packages (from -r requirements.txt (line 3)) (1.26.4)\n",
      "Requirement already satisfied: pandas in c:\\users\\ak_0366\\appdata\\local\\programs\\python\\python311\\lib\\site-packages (from -r requirements.txt (line 4)) (2.2.1)\n",
      "Requirement already satisfied: scikit-learn in c:\\users\\ak_0366\\appdata\\local\\programs\\python\\python311\\lib\\site-packages (from -r requirements.txt (line 5)) (1.4.1.post1)\n",
      "Requirement already satisfied: scikit-image in c:\\users\\ak_0366\\appdata\\local\\programs\\python\\python311\\lib\\site-packages (from -r requirements.txt (line 6)) (0.23.1)\n",
      "Requirement already satisfied: Pillow in c:\\users\\ak_0366\\appdata\\local\\programs\\python\\python311\\lib\\site-packages (from streamlit-drawable-canvas->-r requirements.txt (line 1)) (10.2.0)\n",
      "Requirement already satisfied: altair<6,>=4.0 in c:\\users\\ak_0366\\appdata\\local\\programs\\python\\python311\\lib\\site-packages (from streamlit->-r requirements.txt (line 2)) (5.3.0)\n",
      "Requirement already satisfied: blinker<2,>=1.0.0 in c:\\users\\ak_0366\\appdata\\local\\programs\\python\\python311\\lib\\site-packages (from streamlit->-r requirements.txt (line 2)) (1.7.0)\n",
      "Requirement already satisfied: cachetools<6,>=4.0 in c:\\users\\ak_0366\\appdata\\local\\programs\\python\\python311\\lib\\site-packages (from streamlit->-r requirements.txt (line 2)) (5.3.3)\n",
      "Requirement already satisfied: click<9,>=7.0 in c:\\users\\ak_0366\\appdata\\local\\programs\\python\\python311\\lib\\site-packages (from streamlit->-r requirements.txt (line 2)) (8.1.7)\n",
      "Requirement already satisfied: packaging<25,>=16.8 in c:\\users\\ak_0366\\appdata\\local\\programs\\python\\python311\\lib\\site-packages (from streamlit->-r requirements.txt (line 2)) (23.2)\n",
      "Requirement already satisfied: protobuf<5,>=3.20 in c:\\users\\ak_0366\\appdata\\local\\programs\\python\\python311\\lib\\site-packages (from streamlit->-r requirements.txt (line 2)) (4.25.3)\n",
      "Requirement already satisfied: pyarrow>=7.0 in c:\\users\\ak_0366\\appdata\\local\\programs\\python\\python311\\lib\\site-packages (from streamlit->-r requirements.txt (line 2)) (15.0.2)\n",
      "Requirement already satisfied: requests<3,>=2.27 in c:\\users\\ak_0366\\appdata\\local\\programs\\python\\python311\\lib\\site-packages (from streamlit->-r requirements.txt (line 2)) (2.31.0)\n",
      "Requirement already satisfied: rich<14,>=10.14.0 in c:\\users\\ak_0366\\appdata\\local\\programs\\python\\python311\\lib\\site-packages (from streamlit->-r requirements.txt (line 2)) (13.7.1)\n",
      "Requirement already satisfied: tenacity<9,>=8.1.0 in c:\\users\\ak_0366\\appdata\\local\\programs\\python\\python311\\lib\\site-packages (from streamlit->-r requirements.txt (line 2)) (8.2.3)\n",
      "Requirement already satisfied: toml<2,>=0.10.1 in c:\\users\\ak_0366\\appdata\\local\\programs\\python\\python311\\lib\\site-packages (from streamlit->-r requirements.txt (line 2)) (0.10.2)\n",
      "Requirement already satisfied: typing-extensions<5,>=4.3.0 in c:\\users\\ak_0366\\appdata\\local\\programs\\python\\python311\\lib\\site-packages (from streamlit->-r requirements.txt (line 2)) (4.10.0)\n",
      "Requirement already satisfied: gitpython!=3.1.19,<4,>=3.0.7 in c:\\users\\ak_0366\\appdata\\local\\programs\\python\\python311\\lib\\site-packages (from streamlit->-r requirements.txt (line 2)) (3.1.43)\n",
      "Requirement already satisfied: pydeck<1,>=0.8.0b4 in c:\\users\\ak_0366\\appdata\\local\\programs\\python\\python311\\lib\\site-packages (from streamlit->-r requirements.txt (line 2)) (0.8.1b0)\n",
      "Requirement already satisfied: tornado<7,>=6.0.3 in c:\\users\\ak_0366\\appdata\\local\\programs\\python\\python311\\lib\\site-packages (from streamlit->-r requirements.txt (line 2)) (6.4)\n",
      "Requirement already satisfied: watchdog>=2.1.5 in c:\\users\\ak_0366\\appdata\\local\\programs\\python\\python311\\lib\\site-packages (from streamlit->-r requirements.txt (line 2)) (4.0.0)\n",
      "Requirement already satisfied: python-dateutil>=2.8.2 in c:\\users\\ak_0366\\appdata\\local\\programs\\python\\python311\\lib\\site-packages (from pandas->-r requirements.txt (line 4)) (2.9.0.post0)\n",
      "Requirement already satisfied: pytz>=2020.1 in c:\\users\\ak_0366\\appdata\\local\\programs\\python\\python311\\lib\\site-packages (from pandas->-r requirements.txt (line 4)) (2024.1)\n",
      "Requirement already satisfied: tzdata>=2022.7 in c:\\users\\ak_0366\\appdata\\local\\programs\\python\\python311\\lib\\site-packages (from pandas->-r requirements.txt (line 4)) (2024.1)\n",
      "Requirement already satisfied: scipy>=1.6.0 in c:\\users\\ak_0366\\appdata\\local\\programs\\python\\python311\\lib\\site-packages (from scikit-learn->-r requirements.txt (line 5)) (1.12.0)\n",
      "Requirement already satisfied: joblib>=1.2.0 in c:\\users\\ak_0366\\appdata\\local\\programs\\python\\python311\\lib\\site-packages (from scikit-learn->-r requirements.txt (line 5)) (1.3.2)\n",
      "Requirement already satisfied: threadpoolctl>=2.0.0 in c:\\users\\ak_0366\\appdata\\local\\programs\\python\\python311\\lib\\site-packages (from scikit-learn->-r requirements.txt (line 5)) (3.3.0)\n",
      "Requirement already satisfied: networkx>=2.8 in c:\\users\\ak_0366\\appdata\\local\\programs\\python\\python311\\lib\\site-packages (from scikit-image->-r requirements.txt (line 6)) (3.3)\n",
      "Requirement already satisfied: imageio>=2.33 in c:\\users\\ak_0366\\appdata\\local\\programs\\python\\python311\\lib\\site-packages (from scikit-image->-r requirements.txt (line 6)) (2.34.0)\n",
      "Requirement already satisfied: tifffile>=2022.8.12 in c:\\users\\ak_0366\\appdata\\local\\programs\\python\\python311\\lib\\site-packages (from scikit-image->-r requirements.txt (line 6)) (2024.4.18)\n",
      "Requirement already satisfied: lazy-loader>=0.4 in c:\\users\\ak_0366\\appdata\\local\\programs\\python\\python311\\lib\\site-packages (from scikit-image->-r requirements.txt (line 6)) (0.4)\n",
      "Requirement already satisfied: jinja2 in c:\\users\\ak_0366\\appdata\\local\\programs\\python\\python311\\lib\\site-packages (from altair<6,>=4.0->streamlit->-r requirements.txt (line 2)) (3.1.3)\n",
      "Requirement already satisfied: jsonschema>=3.0 in c:\\users\\ak_0366\\appdata\\local\\programs\\python\\python311\\lib\\site-packages (from altair<6,>=4.0->streamlit->-r requirements.txt (line 2)) (4.21.1)\n",
      "Requirement already satisfied: toolz in c:\\users\\ak_0366\\appdata\\local\\programs\\python\\python311\\lib\\site-packages (from altair<6,>=4.0->streamlit->-r requirements.txt (line 2)) (0.12.1)\n",
      "Requirement already satisfied: colorama in c:\\users\\ak_0366\\appdata\\local\\programs\\python\\python311\\lib\\site-packages (from click<9,>=7.0->streamlit->-r requirements.txt (line 2)) (0.4.6)\n",
      "Requirement already satisfied: gitdb<5,>=4.0.1 in c:\\users\\ak_0366\\appdata\\local\\programs\\python\\python311\\lib\\site-packages (from gitpython!=3.1.19,<4,>=3.0.7->streamlit->-r requirements.txt (line 2)) (4.0.11)\n",
      "Requirement already satisfied: six>=1.5 in c:\\users\\ak_0366\\appdata\\local\\programs\\python\\python311\\lib\\site-packages (from python-dateutil>=2.8.2->pandas->-r requirements.txt (line 4)) (1.16.0)\n",
      "Requirement already satisfied: charset-normalizer<4,>=2 in c:\\users\\ak_0366\\appdata\\local\\programs\\python\\python311\\lib\\site-packages (from requests<3,>=2.27->streamlit->-r requirements.txt (line 2)) (3.3.2)\n",
      "Requirement already satisfied: idna<4,>=2.5 in c:\\users\\ak_0366\\appdata\\local\\programs\\python\\python311\\lib\\site-packages (from requests<3,>=2.27->streamlit->-r requirements.txt (line 2)) (3.6)\n",
      "Requirement already satisfied: urllib3<3,>=1.21.1 in c:\\users\\ak_0366\\appdata\\local\\programs\\python\\python311\\lib\\site-packages (from requests<3,>=2.27->streamlit->-r requirements.txt (line 2)) (2.2.1)\n",
      "Requirement already satisfied: certifi>=2017.4.17 in c:\\users\\ak_0366\\appdata\\local\\programs\\python\\python311\\lib\\site-packages (from requests<3,>=2.27->streamlit->-r requirements.txt (line 2)) (2024.2.2)\n",
      "Requirement already satisfied: markdown-it-py>=2.2.0 in c:\\users\\ak_0366\\appdata\\local\\programs\\python\\python311\\lib\\site-packages (from rich<14,>=10.14.0->streamlit->-r requirements.txt (line 2)) (3.0.0)\n",
      "Requirement already satisfied: pygments<3.0.0,>=2.13.0 in c:\\users\\ak_0366\\appdata\\local\\programs\\python\\python311\\lib\\site-packages (from rich<14,>=10.14.0->streamlit->-r requirements.txt (line 2)) (2.17.2)\n",
      "Requirement already satisfied: smmap<6,>=3.0.1 in c:\\users\\ak_0366\\appdata\\local\\programs\\python\\python311\\lib\\site-packages (from gitdb<5,>=4.0.1->gitpython!=3.1.19,<4,>=3.0.7->streamlit->-r requirements.txt (line 2)) (5.0.1)\n",
      "Requirement already satisfied: MarkupSafe>=2.0 in c:\\users\\ak_0366\\appdata\\local\\programs\\python\\python311\\lib\\site-packages (from jinja2->altair<6,>=4.0->streamlit->-r requirements.txt (line 2)) (2.1.5)\n",
      "Requirement already satisfied: attrs>=22.2.0 in c:\\users\\ak_0366\\appdata\\local\\programs\\python\\python311\\lib\\site-packages (from jsonschema>=3.0->altair<6,>=4.0->streamlit->-r requirements.txt (line 2)) (23.2.0)\n",
      "Requirement already satisfied: jsonschema-specifications>=2023.03.6 in c:\\users\\ak_0366\\appdata\\local\\programs\\python\\python311\\lib\\site-packages (from jsonschema>=3.0->altair<6,>=4.0->streamlit->-r requirements.txt (line 2)) (2023.12.1)\n",
      "Requirement already satisfied: referencing>=0.28.4 in c:\\users\\ak_0366\\appdata\\local\\programs\\python\\python311\\lib\\site-packages (from jsonschema>=3.0->altair<6,>=4.0->streamlit->-r requirements.txt (line 2)) (0.33.0)\n",
      "Requirement already satisfied: rpds-py>=0.7.1 in c:\\users\\ak_0366\\appdata\\local\\programs\\python\\python311\\lib\\site-packages (from jsonschema>=3.0->altair<6,>=4.0->streamlit->-r requirements.txt (line 2)) (0.18.0)\n",
      "Requirement already satisfied: mdurl~=0.1 in c:\\users\\ak_0366\\appdata\\local\\programs\\python\\python311\\lib\\site-packages (from markdown-it-py>=2.2.0->rich<14,>=10.14.0->streamlit->-r requirements.txt (line 2)) (0.1.2)\n"
     ]
    }
   ],
   "source": [
    "!pip install -r requirements.txt"
   ]
  },
  {
   "cell_type": "code",
   "execution_count": 2,
   "id": "8bd38de1-04e0-4b3c-a9f8-c26a7c5f76b7",
   "metadata": {},
   "outputs": [],
   "source": [
    "import os\n",
    "import pickle\n",
    "import warnings\n",
    "\n",
    "import numpy as np\n",
    "from skimage.io import imread\n",
    "from skimage.transform import resize\n",
    "from sklearn.linear_model import LogisticRegression\n",
    "\n",
    "warnings.filterwarnings(\"ignore\")"
   ]
  },
  {
   "cell_type": "code",
   "execution_count": 3,
   "id": "33aed754-2175-442b-9b37-e568aaf59bdb",
   "metadata": {},
   "outputs": [],
   "source": [
    "def tranform_image(img):\n",
    "    feature = []\n",
    "    tranform_img = resize(img, (150, 150))\n",
    "    flatten_img = tranform_img.flatten()\n",
    "    feature.append(flatten_img)\n",
    "    return np.array(feature)"
   ]
  },
  {
   "cell_type": "code",
   "execution_count": 4,
   "id": "04dc7f06-5218-4702-88ba-92c03b2a507a",
   "metadata": {},
   "outputs": [],
   "source": [
    "class Get_Model:\n",
    "    def __init__(self,dir_,file_name):\n",
    "        self.dir_=dir_\n",
    "        self.file_name=file_name\n",
    "        \n",
    "    def get_data(self):\n",
    "        X=[list(map(tranform_image,[imread(self.dir_+img) for img in os.listdir(self.dir_)]))]\n",
    "        X=np.squeeze(X[0])\n",
    "        y=[int(img.split('-')[0].replace('img','')) for img in os.listdir(self.dir_)]\n",
    "        return X,y\n",
    "\n",
    "    def build_model(self):\n",
    "        X,y=self.get_data()\n",
    "        model=LogisticRegression()\n",
    "        model.fit(X,y)\n",
    "        print(model.score(X,y))\n",
    "        pickle.dump(model,open('Models/'+self.file_name+'.pkl','wb'),fix_imports=True)"
   ]
  },
  {
   "cell_type": "code",
   "execution_count": 5,
   "id": "ee60d076-595f-49c6-8c3c-f70e1b8af81b",
   "metadata": {},
   "outputs": [
    {
     "name": "stdout",
     "output_type": "stream",
     "text": [
      "1.0\n"
     ]
    }
   ],
   "source": [
    "o = Get_Model(\"test_img_aa/\", \"KCRaa\")\n",
    "o.build_model()"
   ]
  },
  {
   "cell_type": "code",
   "execution_count": 6,
   "id": "dac5f7cf-fb87-4218-8185-013408f4abc1",
   "metadata": {},
   "outputs": [
    {
     "name": "stdout",
     "output_type": "stream",
     "text": [
      "1.0\n"
     ]
    }
   ],
   "source": [
    "o = Get_Model(\"test_img_ka/\", \"KCRkaa\")\n",
    "o.build_model()"
   ]
  },
  {
   "cell_type": "code",
   "execution_count": 7,
   "id": "abdec2b6-79a9-4392-8d42-1384cd666b76",
   "metadata": {},
   "outputs": [
    {
     "name": "stdout",
     "output_type": "stream",
     "text": [
      "1.0\n"
     ]
    }
   ],
   "source": [
    "o = Get_Model(\"test_img_num/\", \"KCRnum\")\n",
    "o.build_model()"
   ]
  }
 ],
 "metadata": {
  "kernelspec": {
   "display_name": "Python 3 (ipykernel)",
   "language": "python",
   "name": "python3"
  },
  "language_info": {
   "codemirror_mode": {
    "name": "ipython",
    "version": 3
   },
   "file_extension": ".py",
   "mimetype": "text/x-python",
   "name": "python",
   "nbconvert_exporter": "python",
   "pygments_lexer": "ipython3",
   "version": "3.11.5"
  }
 },
 "nbformat": 4,
 "nbformat_minor": 5
}
